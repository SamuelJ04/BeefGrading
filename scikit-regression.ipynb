{
 "cells": [
  {
   "cell_type": "markdown",
   "metadata": {},
   "source": [
    "## Regression Model for USDA Beef Grading\n",
    "\n",
    "This model will use tensorflow and keras to make a CNN regression model (convolutional neural network)"
   ]
  },
  {
   "cell_type": "code",
   "execution_count": 10,
   "metadata": {},
   "outputs": [],
   "source": [
    "#importing libraries\n",
    "import numpy as np\n",
    "import pandas as pd\n",
    "import matplotlib.pyplot as plt\n",
    "import tensorflow as tf\n",
    "from pathlib import Path\n",
    "import os.path\n",
    "import sys\n",
    "\n",
    "from tensorflow import keras\n",
    "from tensorflow.keras import layers, models\n",
    "from tensorflow.keras.models import Sequential\n",
    "from tensorflow.keras.layers import Conv2D, MaxPooling2D, Flatten, Dense, Dropout\n",
    "from sklearn.model_selection import train_test_split\n",
    "from sklearn.preprocessing import MinMaxScaler\n",
    "from sklearn.metrics import r2_score"
   ]
  },
  {
   "cell_type": "code",
   "execution_count": 11,
   "metadata": {},
   "outputs": [],
   "source": [
    "#insert paths for image folder and data excel file\n",
    "image_folder = \"Data/Cleaned JPEG Images/Cargill Friona 07 18 22 Plant/images\"\n",
    "excel_path = \"Data/Cleaned JPEG Images/Cargill Friona 07 18 22 Plant/data.xlsx\"\n",
    "\n",
    "image_size=(422,512)\n",
    "# make a dictionary based upon the excel avg score\n",
    "# use the ID as the key and the avg as the return\n",
    "image_dataframe = pd.read_excel(excel_path)\n",
    "## has it to where 0,1,2,3,4 disappear\n",
    "\n",
    "image_ids = image_dataframe['ID'].astype(str).tolist()\n",
    "image_scores = image_dataframe['AVG'].astype(str).tolist()\n",
    "\n",
    "id_score_dict = {}\n",
    "#image_ids.append(\"joe\")\n",
    "\n",
    "if len(image_ids) == len(image_scores):\n",
    "    for i in range(len(image_ids)):\n",
    "        id_score_dict[image_ids[i]] = image_scores[i]\n",
    "else:\n",
    "    print(\"image_id length does not equal image_scores length. try inspecting excel file.\")\n",
    "\n",
    "#print(id_score_dict['164705-1'])\n",
    "\n",
    "#print(image_dataframe)\n"
   ]
  },
  {
   "cell_type": "code",
   "execution_count": null,
   "metadata": {},
   "outputs": [],
   "source": []
  },
  {
   "cell_type": "code",
   "execution_count": 12,
   "metadata": {},
   "outputs": [],
   "source": [
    "def build_model():\n",
    "    model = Sequential([\n",
    "        Conv2D(32, (3, 3), activation='relu', input_shape=(image_size, 3)),\n",
    "        MaxPooling2D((2, 2)),\n",
    "        Conv2D(64, (3, 3), activation='relu'),\n",
    "        MaxPooling2D((2, 2)),\n",
    "        Conv2D(128, (3, 3), activation='relu'),\n",
    "        MaxPooling2D((2, 2)),\n",
    "        Flatten(),\n",
    "        Dense(128, activation='relu'),\n",
    "        Dropout(0.5),\n",
    "        Dense(1)  # Output layer for regression\n",
    "    ])\n",
    "    model.compile(optimizer='adam', loss='mse', metrics=['mae'])\n",
    "    return model"
   ]
  }
 ],
 "metadata": {
  "kernelspec": {
   "display_name": "base",
   "language": "python",
   "name": "python3"
  },
  "language_info": {
   "codemirror_mode": {
    "name": "ipython",
    "version": 3
   },
   "file_extension": ".py",
   "mimetype": "text/x-python",
   "name": "python",
   "nbconvert_exporter": "python",
   "pygments_lexer": "ipython3",
   "version": "3.11.9"
  }
 },
 "nbformat": 4,
 "nbformat_minor": 2
}
